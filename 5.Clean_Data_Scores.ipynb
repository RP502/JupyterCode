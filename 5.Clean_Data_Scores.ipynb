{
 "cells": [
  {
   "cell_type": "markdown",
   "metadata": {},
   "source": [
    "## Những vấn đề xử lý trong file csv"
   ]
  },
  {
   "cell_type": "code",
   "execution_count": 1,
   "metadata": {},
   "outputs": [],
   "source": [
    "#### xóa 2 cột KHTN và KHXH và Ma Ngoai Ngu, ten, ngay sinh... không cần thiết\n",
    "#### đổi tên các cột lại\n",
    "#### Replace white-space null value with np.nan -> nếu có\n",
    "#### Add year column add year theo năm vào dữ liệu\n",
    "#### astype float \n",
    "#### check trùng lặp dữ liệu\n",
    "#### check dữ liệu lỗi\n",
    "#### Match code provinces with name\n",
    "#### clean số báo danh 7 chữ số = cách thêm số 0 vào "
   ]
  },
  {
   "cell_type": "markdown",
   "metadata": {},
   "source": [
    "### 1.Import libraries"
   ]
  },
  {
   "cell_type": "code",
   "execution_count": 2,
   "metadata": {},
   "outputs": [],
   "source": [
    "# import numpy as np\n",
    "import pandas as pd\n",
    "# import matplotlib.pyplot as plt\n",
    "# import seaborn as sns\n",
    "# import os"
   ]
  },
  {
   "cell_type": "markdown",
   "metadata": {},
   "source": [
    "### 2.Read file csv"
   ]
  },
  {
   "cell_type": "code",
   "execution_count": 3,
   "metadata": {},
   "outputs": [],
   "source": [
    "df_2019 = pd.read_csv(r\"D:\\VKU\\HK6\\DACN + PTDL + ML\\Data_diemthi\\diemthi2019.csv\")"
   ]
  },
  {
   "cell_type": "markdown",
   "metadata": {},
   "source": [
    "##### 2.1.Read head index"
   ]
  },
  {
   "cell_type": "code",
   "execution_count": 4,
   "metadata": {},
   "outputs": [
    {
     "data": {
      "text/html": [
       "<div>\n",
       "<style scoped>\n",
       "    .dataframe tbody tr th:only-of-type {\n",
       "        vertical-align: middle;\n",
       "    }\n",
       "\n",
       "    .dataframe tbody tr th {\n",
       "        vertical-align: top;\n",
       "    }\n",
       "\n",
       "    .dataframe thead th {\n",
       "        text-align: right;\n",
       "    }\n",
       "</style>\n",
       "<table border=\"1\" class=\"dataframe\">\n",
       "  <thead>\n",
       "    <tr style=\"text-align: right;\">\n",
       "      <th></th>\n",
       "      <th>Unnamed: 0</th>\n",
       "      <th>Dia</th>\n",
       "      <th>GDCD</th>\n",
       "      <th>Hoa</th>\n",
       "      <th>Li</th>\n",
       "      <th>Ma_mon_ngoai_ngu</th>\n",
       "      <th>Ngoai_ngu</th>\n",
       "      <th>Sinh</th>\n",
       "      <th>Su</th>\n",
       "      <th>Toan</th>\n",
       "      <th>Van</th>\n",
       "      <th>sbd</th>\n",
       "    </tr>\n",
       "  </thead>\n",
       "  <tbody>\n",
       "    <tr>\n",
       "      <th>0</th>\n",
       "      <td>0</td>\n",
       "      <td>7.75</td>\n",
       "      <td>8.75</td>\n",
       "      <td>NaN</td>\n",
       "      <td>NaN</td>\n",
       "      <td>N1</td>\n",
       "      <td>7.6</td>\n",
       "      <td>NaN</td>\n",
       "      <td>8.25</td>\n",
       "      <td>8.2</td>\n",
       "      <td>8.00</td>\n",
       "      <td>24008611</td>\n",
       "    </tr>\n",
       "    <tr>\n",
       "      <th>1</th>\n",
       "      <td>1</td>\n",
       "      <td>NaN</td>\n",
       "      <td>NaN</td>\n",
       "      <td>4.5</td>\n",
       "      <td>8.25</td>\n",
       "      <td>N1</td>\n",
       "      <td>8.0</td>\n",
       "      <td>6.0</td>\n",
       "      <td>NaN</td>\n",
       "      <td>8.6</td>\n",
       "      <td>6.17</td>\n",
       "      <td>51000032</td>\n",
       "    </tr>\n",
       "    <tr>\n",
       "      <th>2</th>\n",
       "      <td>2</td>\n",
       "      <td>4.25</td>\n",
       "      <td>5.75</td>\n",
       "      <td>NaN</td>\n",
       "      <td>NaN</td>\n",
       "      <td>NaN</td>\n",
       "      <td>NaN</td>\n",
       "      <td>NaN</td>\n",
       "      <td>4.00</td>\n",
       "      <td>5.2</td>\n",
       "      <td>4.75</td>\n",
       "      <td>51000005</td>\n",
       "    </tr>\n",
       "    <tr>\n",
       "      <th>3</th>\n",
       "      <td>3</td>\n",
       "      <td>4.75</td>\n",
       "      <td>5.00</td>\n",
       "      <td>NaN</td>\n",
       "      <td>NaN</td>\n",
       "      <td>NaN</td>\n",
       "      <td>NaN</td>\n",
       "      <td>NaN</td>\n",
       "      <td>2.25</td>\n",
       "      <td>4.4</td>\n",
       "      <td>4.50</td>\n",
       "      <td>51000021</td>\n",
       "    </tr>\n",
       "    <tr>\n",
       "      <th>4</th>\n",
       "      <td>4</td>\n",
       "      <td>8.25</td>\n",
       "      <td>7.50</td>\n",
       "      <td>NaN</td>\n",
       "      <td>NaN</td>\n",
       "      <td>N1</td>\n",
       "      <td>4.4</td>\n",
       "      <td>NaN</td>\n",
       "      <td>7.75</td>\n",
       "      <td>5.8</td>\n",
       "      <td>6.00</td>\n",
       "      <td>51000013</td>\n",
       "    </tr>\n",
       "  </tbody>\n",
       "</table>\n",
       "</div>"
      ],
      "text/plain": [
       "   Unnamed: 0   Dia  GDCD  Hoa    Li Ma_mon_ngoai_ngu  Ngoai_ngu  Sinh    Su  \\\n",
       "0           0  7.75  8.75  NaN   NaN               N1        7.6   NaN  8.25   \n",
       "1           1   NaN   NaN  4.5  8.25               N1        8.0   6.0   NaN   \n",
       "2           2  4.25  5.75  NaN   NaN              NaN        NaN   NaN  4.00   \n",
       "3           3  4.75  5.00  NaN   NaN              NaN        NaN   NaN  2.25   \n",
       "4           4  8.25  7.50  NaN   NaN               N1        4.4   NaN  7.75   \n",
       "\n",
       "   Toan   Van       sbd  \n",
       "0   8.2  8.00  24008611  \n",
       "1   8.6  6.17  51000032  \n",
       "2   5.2  4.75  51000005  \n",
       "3   4.4  4.50  51000021  \n",
       "4   5.8  6.00  51000013  "
      ]
     },
     "execution_count": 4,
     "metadata": {},
     "output_type": "execute_result"
    }
   ],
   "source": [
    "df_2019.head(5)"
   ]
  },
  {
   "cell_type": "markdown",
   "metadata": {},
   "source": [
    "##### 2.2.Read end index"
   ]
  },
  {
   "cell_type": "code",
   "execution_count": 5,
   "metadata": {},
   "outputs": [
    {
     "data": {
      "text/html": [
       "<div>\n",
       "<style scoped>\n",
       "    .dataframe tbody tr th:only-of-type {\n",
       "        vertical-align: middle;\n",
       "    }\n",
       "\n",
       "    .dataframe tbody tr th {\n",
       "        vertical-align: top;\n",
       "    }\n",
       "\n",
       "    .dataframe thead th {\n",
       "        text-align: right;\n",
       "    }\n",
       "</style>\n",
       "<table border=\"1\" class=\"dataframe\">\n",
       "  <thead>\n",
       "    <tr style=\"text-align: right;\">\n",
       "      <th></th>\n",
       "      <th>Unnamed: 0</th>\n",
       "      <th>Dia</th>\n",
       "      <th>GDCD</th>\n",
       "      <th>Hoa</th>\n",
       "      <th>Li</th>\n",
       "      <th>Ma_mon_ngoai_ngu</th>\n",
       "      <th>Ngoai_ngu</th>\n",
       "      <th>Sinh</th>\n",
       "      <th>Su</th>\n",
       "      <th>Toan</th>\n",
       "      <th>Van</th>\n",
       "      <th>sbd</th>\n",
       "    </tr>\n",
       "  </thead>\n",
       "  <tbody>\n",
       "    <tr>\n",
       "      <th>811846</th>\n",
       "      <td>811846</td>\n",
       "      <td>5.75</td>\n",
       "      <td>8.5</td>\n",
       "      <td>NaN</td>\n",
       "      <td>NaN</td>\n",
       "      <td>N1</td>\n",
       "      <td>3.4</td>\n",
       "      <td>NaN</td>\n",
       "      <td>4.5</td>\n",
       "      <td>4.4</td>\n",
       "      <td>4.75</td>\n",
       "      <td>26019104</td>\n",
       "    </tr>\n",
       "    <tr>\n",
       "      <th>811847</th>\n",
       "      <td>811847</td>\n",
       "      <td>NaN</td>\n",
       "      <td>NaN</td>\n",
       "      <td>4.5</td>\n",
       "      <td>3.75</td>\n",
       "      <td>N1</td>\n",
       "      <td>4.4</td>\n",
       "      <td>4.00</td>\n",
       "      <td>NaN</td>\n",
       "      <td>5.2</td>\n",
       "      <td>6.25</td>\n",
       "      <td>26019102</td>\n",
       "    </tr>\n",
       "    <tr>\n",
       "      <th>811848</th>\n",
       "      <td>811848</td>\n",
       "      <td>5.50</td>\n",
       "      <td>8.0</td>\n",
       "      <td>NaN</td>\n",
       "      <td>NaN</td>\n",
       "      <td>N1</td>\n",
       "      <td>2.8</td>\n",
       "      <td>NaN</td>\n",
       "      <td>5.5</td>\n",
       "      <td>2.8</td>\n",
       "      <td>5.00</td>\n",
       "      <td>26019099</td>\n",
       "    </tr>\n",
       "    <tr>\n",
       "      <th>811849</th>\n",
       "      <td>811849</td>\n",
       "      <td>6.75</td>\n",
       "      <td>8.5</td>\n",
       "      <td>NaN</td>\n",
       "      <td>NaN</td>\n",
       "      <td>N1</td>\n",
       "      <td>4.0</td>\n",
       "      <td>NaN</td>\n",
       "      <td>3.5</td>\n",
       "      <td>6.2</td>\n",
       "      <td>7.25</td>\n",
       "      <td>26019101</td>\n",
       "    </tr>\n",
       "    <tr>\n",
       "      <th>811850</th>\n",
       "      <td>811850</td>\n",
       "      <td>NaN</td>\n",
       "      <td>NaN</td>\n",
       "      <td>4.5</td>\n",
       "      <td>5.25</td>\n",
       "      <td>N1</td>\n",
       "      <td>2.2</td>\n",
       "      <td>3.75</td>\n",
       "      <td>NaN</td>\n",
       "      <td>6.4</td>\n",
       "      <td>5.75</td>\n",
       "      <td>26019097</td>\n",
       "    </tr>\n",
       "  </tbody>\n",
       "</table>\n",
       "</div>"
      ],
      "text/plain": [
       "        Unnamed: 0   Dia  GDCD  Hoa    Li Ma_mon_ngoai_ngu  Ngoai_ngu  Sinh  \\\n",
       "811846      811846  5.75   8.5  NaN   NaN               N1        3.4   NaN   \n",
       "811847      811847   NaN   NaN  4.5  3.75               N1        4.4  4.00   \n",
       "811848      811848  5.50   8.0  NaN   NaN               N1        2.8   NaN   \n",
       "811849      811849  6.75   8.5  NaN   NaN               N1        4.0   NaN   \n",
       "811850      811850   NaN   NaN  4.5  5.25               N1        2.2  3.75   \n",
       "\n",
       "         Su  Toan   Van       sbd  \n",
       "811846  4.5   4.4  4.75  26019104  \n",
       "811847  NaN   5.2  6.25  26019102  \n",
       "811848  5.5   2.8  5.00  26019099  \n",
       "811849  3.5   6.2  7.25  26019101  \n",
       "811850  NaN   6.4  5.75  26019097  "
      ]
     },
     "execution_count": 5,
     "metadata": {},
     "output_type": "execute_result"
    }
   ],
   "source": [
    "df_2019.tail(5)"
   ]
  },
  {
   "cell_type": "markdown",
   "metadata": {},
   "source": [
    "##### 2.3Show index, col in dataframe"
   ]
  },
  {
   "cell_type": "code",
   "execution_count": 6,
   "metadata": {},
   "outputs": [
    {
     "data": {
      "text/plain": [
       "(811851, 12)"
      ]
     },
     "execution_count": 6,
     "metadata": {},
     "output_type": "execute_result"
    }
   ],
   "source": [
    "df_2019.shape"
   ]
  },
  {
   "cell_type": "markdown",
   "metadata": {},
   "source": [
    "##### 2.4.View details info data"
   ]
  },
  {
   "cell_type": "code",
   "execution_count": 7,
   "metadata": {},
   "outputs": [
    {
     "name": "stdout",
     "output_type": "stream",
     "text": [
      "<class 'pandas.core.frame.DataFrame'>\n",
      "RangeIndex: 811851 entries, 0 to 811850\n",
      "Data columns (total 12 columns):\n",
      " #   Column            Non-Null Count   Dtype  \n",
      "---  ------            --------------   -----  \n",
      " 0   Unnamed: 0        811851 non-null  int64  \n",
      " 1   Dia               535897 non-null  float64\n",
      " 2   GDCD              470905 non-null  float64\n",
      " 3   Hoa               295544 non-null  float64\n",
      " 4   Li                292166 non-null  float64\n",
      " 5   Ma_mon_ngoai_ngu  728513 non-null  object \n",
      " 6   Ngoai_ngu         728513 non-null  float64\n",
      " 7   Sinh              291199 non-null  float64\n",
      " 8   Su                542729 non-null  float64\n",
      " 9   Toan              807762 non-null  float64\n",
      " 10  Van               799208 non-null  float64\n",
      " 11  sbd               811851 non-null  int64  \n",
      "dtypes: float64(9), int64(2), object(1)\n",
      "memory usage: 74.3+ MB\n"
     ]
    }
   ],
   "source": [
    "df_2019.info()"
   ]
  },
  {
   "cell_type": "code",
   "execution_count": 8,
   "metadata": {},
   "outputs": [
    {
     "data": {
      "text/html": [
       "<div>\n",
       "<style scoped>\n",
       "    .dataframe tbody tr th:only-of-type {\n",
       "        vertical-align: middle;\n",
       "    }\n",
       "\n",
       "    .dataframe tbody tr th {\n",
       "        vertical-align: top;\n",
       "    }\n",
       "\n",
       "    .dataframe thead th {\n",
       "        text-align: right;\n",
       "    }\n",
       "</style>\n",
       "<table border=\"1\" class=\"dataframe\">\n",
       "  <thead>\n",
       "    <tr style=\"text-align: right;\">\n",
       "      <th></th>\n",
       "      <th>Unnamed: 0</th>\n",
       "      <th>Dia</th>\n",
       "      <th>GDCD</th>\n",
       "      <th>Hoa</th>\n",
       "      <th>Li</th>\n",
       "      <th>Ngoai_ngu</th>\n",
       "      <th>Sinh</th>\n",
       "      <th>Su</th>\n",
       "      <th>Toan</th>\n",
       "      <th>Van</th>\n",
       "      <th>sbd</th>\n",
       "    </tr>\n",
       "  </thead>\n",
       "  <tbody>\n",
       "    <tr>\n",
       "      <th>count</th>\n",
       "      <td>811851.000000</td>\n",
       "      <td>535897.000000</td>\n",
       "      <td>470905.000000</td>\n",
       "      <td>295544.000000</td>\n",
       "      <td>292166.000000</td>\n",
       "      <td>728513.000000</td>\n",
       "      <td>291199.000000</td>\n",
       "      <td>542729.000000</td>\n",
       "      <td>807762.000000</td>\n",
       "      <td>799208.000000</td>\n",
       "      <td>8.118510e+05</td>\n",
       "    </tr>\n",
       "    <tr>\n",
       "      <th>mean</th>\n",
       "      <td>405925.000000</td>\n",
       "      <td>5.988069</td>\n",
       "      <td>7.353802</td>\n",
       "      <td>5.342898</td>\n",
       "      <td>5.563926</td>\n",
       "      <td>4.240692</td>\n",
       "      <td>4.665719</td>\n",
       "      <td>4.293683</td>\n",
       "      <td>5.573748</td>\n",
       "      <td>5.442390</td>\n",
       "      <td>3.040246e+07</td>\n",
       "    </tr>\n",
       "    <tr>\n",
       "      <th>std</th>\n",
       "      <td>234361.341032</td>\n",
       "      <td>1.232252</td>\n",
       "      <td>1.270562</td>\n",
       "      <td>1.594621</td>\n",
       "      <td>1.619208</td>\n",
       "      <td>1.750507</td>\n",
       "      <td>1.247124</td>\n",
       "      <td>1.439408</td>\n",
       "      <td>1.758361</td>\n",
       "      <td>1.353822</td>\n",
       "      <td>1.789921e+07</td>\n",
       "    </tr>\n",
       "    <tr>\n",
       "      <th>min</th>\n",
       "      <td>0.000000</td>\n",
       "      <td>0.000000</td>\n",
       "      <td>0.000000</td>\n",
       "      <td>0.000000</td>\n",
       "      <td>0.000000</td>\n",
       "      <td>0.000000</td>\n",
       "      <td>0.000000</td>\n",
       "      <td>0.000000</td>\n",
       "      <td>0.000000</td>\n",
       "      <td>0.000000</td>\n",
       "      <td>1.000029e+06</td>\n",
       "    </tr>\n",
       "    <tr>\n",
       "      <th>25%</th>\n",
       "      <td>202962.500000</td>\n",
       "      <td>5.250000</td>\n",
       "      <td>6.500000</td>\n",
       "      <td>4.250000</td>\n",
       "      <td>4.500000</td>\n",
       "      <td>3.000000</td>\n",
       "      <td>3.750000</td>\n",
       "      <td>3.250000</td>\n",
       "      <td>4.200000</td>\n",
       "      <td>4.670000</td>\n",
       "      <td>1.700340e+07</td>\n",
       "    </tr>\n",
       "    <tr>\n",
       "      <th>50%</th>\n",
       "      <td>405925.000000</td>\n",
       "      <td>6.000000</td>\n",
       "      <td>7.500000</td>\n",
       "      <td>5.500000</td>\n",
       "      <td>5.750000</td>\n",
       "      <td>3.800000</td>\n",
       "      <td>4.500000</td>\n",
       "      <td>4.000000</td>\n",
       "      <td>5.600000</td>\n",
       "      <td>5.500000</td>\n",
       "      <td>2.902832e+07</td>\n",
       "    </tr>\n",
       "    <tr>\n",
       "      <th>75%</th>\n",
       "      <td>608887.500000</td>\n",
       "      <td>6.750000</td>\n",
       "      <td>8.250000</td>\n",
       "      <td>6.500000</td>\n",
       "      <td>6.750000</td>\n",
       "      <td>5.200000</td>\n",
       "      <td>5.250000</td>\n",
       "      <td>5.000000</td>\n",
       "      <td>7.000000</td>\n",
       "      <td>6.500000</td>\n",
       "      <td>4.600444e+07</td>\n",
       "    </tr>\n",
       "    <tr>\n",
       "      <th>max</th>\n",
       "      <td>811850.000000</td>\n",
       "      <td>10.000000</td>\n",
       "      <td>10.000000</td>\n",
       "      <td>10.000000</td>\n",
       "      <td>10.000000</td>\n",
       "      <td>10.000000</td>\n",
       "      <td>10.000000</td>\n",
       "      <td>10.000000</td>\n",
       "      <td>10.000000</td>\n",
       "      <td>9.500000</td>\n",
       "      <td>6.400574e+07</td>\n",
       "    </tr>\n",
       "  </tbody>\n",
       "</table>\n",
       "</div>"
      ],
      "text/plain": [
       "          Unnamed: 0            Dia           GDCD            Hoa  \\\n",
       "count  811851.000000  535897.000000  470905.000000  295544.000000   \n",
       "mean   405925.000000       5.988069       7.353802       5.342898   \n",
       "std    234361.341032       1.232252       1.270562       1.594621   \n",
       "min         0.000000       0.000000       0.000000       0.000000   \n",
       "25%    202962.500000       5.250000       6.500000       4.250000   \n",
       "50%    405925.000000       6.000000       7.500000       5.500000   \n",
       "75%    608887.500000       6.750000       8.250000       6.500000   \n",
       "max    811850.000000      10.000000      10.000000      10.000000   \n",
       "\n",
       "                  Li      Ngoai_ngu           Sinh             Su  \\\n",
       "count  292166.000000  728513.000000  291199.000000  542729.000000   \n",
       "mean        5.563926       4.240692       4.665719       4.293683   \n",
       "std         1.619208       1.750507       1.247124       1.439408   \n",
       "min         0.000000       0.000000       0.000000       0.000000   \n",
       "25%         4.500000       3.000000       3.750000       3.250000   \n",
       "50%         5.750000       3.800000       4.500000       4.000000   \n",
       "75%         6.750000       5.200000       5.250000       5.000000   \n",
       "max        10.000000      10.000000      10.000000      10.000000   \n",
       "\n",
       "                Toan            Van           sbd  \n",
       "count  807762.000000  799208.000000  8.118510e+05  \n",
       "mean        5.573748       5.442390  3.040246e+07  \n",
       "std         1.758361       1.353822  1.789921e+07  \n",
       "min         0.000000       0.000000  1.000029e+06  \n",
       "25%         4.200000       4.670000  1.700340e+07  \n",
       "50%         5.600000       5.500000  2.902832e+07  \n",
       "75%         7.000000       6.500000  4.600444e+07  \n",
       "max        10.000000       9.500000  6.400574e+07  "
      ]
     },
     "execution_count": 8,
     "metadata": {},
     "output_type": "execute_result"
    }
   ],
   "source": [
    "df_2019.describe()"
   ]
  },
  {
   "cell_type": "markdown",
   "metadata": {},
   "source": [
    "### 3.Clean Data"
   ]
  },
  {
   "cell_type": "markdown",
   "metadata": {},
   "source": [
    "##### 3.1.Delete cols"
   ]
  },
  {
   "cell_type": "code",
   "execution_count": 9,
   "metadata": {},
   "outputs": [
    {
     "data": {
      "text/html": [
       "<div>\n",
       "<style scoped>\n",
       "    .dataframe tbody tr th:only-of-type {\n",
       "        vertical-align: middle;\n",
       "    }\n",
       "\n",
       "    .dataframe tbody tr th {\n",
       "        vertical-align: top;\n",
       "    }\n",
       "\n",
       "    .dataframe thead th {\n",
       "        text-align: right;\n",
       "    }\n",
       "</style>\n",
       "<table border=\"1\" class=\"dataframe\">\n",
       "  <thead>\n",
       "    <tr style=\"text-align: right;\">\n",
       "      <th></th>\n",
       "      <th>Dia</th>\n",
       "      <th>GDCD</th>\n",
       "      <th>Hoa</th>\n",
       "      <th>Li</th>\n",
       "      <th>Ngoai_ngu</th>\n",
       "      <th>Sinh</th>\n",
       "      <th>Su</th>\n",
       "      <th>Toan</th>\n",
       "      <th>Van</th>\n",
       "      <th>sbd</th>\n",
       "    </tr>\n",
       "  </thead>\n",
       "  <tbody>\n",
       "    <tr>\n",
       "      <th>0</th>\n",
       "      <td>7.75</td>\n",
       "      <td>8.75</td>\n",
       "      <td>NaN</td>\n",
       "      <td>NaN</td>\n",
       "      <td>7.6</td>\n",
       "      <td>NaN</td>\n",
       "      <td>8.25</td>\n",
       "      <td>8.2</td>\n",
       "      <td>8.00</td>\n",
       "      <td>24008611</td>\n",
       "    </tr>\n",
       "    <tr>\n",
       "      <th>1</th>\n",
       "      <td>NaN</td>\n",
       "      <td>NaN</td>\n",
       "      <td>4.5</td>\n",
       "      <td>8.25</td>\n",
       "      <td>8.0</td>\n",
       "      <td>6.0</td>\n",
       "      <td>NaN</td>\n",
       "      <td>8.6</td>\n",
       "      <td>6.17</td>\n",
       "      <td>51000032</td>\n",
       "    </tr>\n",
       "    <tr>\n",
       "      <th>2</th>\n",
       "      <td>4.25</td>\n",
       "      <td>5.75</td>\n",
       "      <td>NaN</td>\n",
       "      <td>NaN</td>\n",
       "      <td>NaN</td>\n",
       "      <td>NaN</td>\n",
       "      <td>4.00</td>\n",
       "      <td>5.2</td>\n",
       "      <td>4.75</td>\n",
       "      <td>51000005</td>\n",
       "    </tr>\n",
       "  </tbody>\n",
       "</table>\n",
       "</div>"
      ],
      "text/plain": [
       "    Dia  GDCD  Hoa    Li  Ngoai_ngu  Sinh    Su  Toan   Van       sbd\n",
       "0  7.75  8.75  NaN   NaN        7.6   NaN  8.25   8.2  8.00  24008611\n",
       "1   NaN   NaN  4.5  8.25        8.0   6.0   NaN   8.6  6.17  51000032\n",
       "2  4.25  5.75  NaN   NaN        NaN   NaN  4.00   5.2  4.75  51000005"
      ]
     },
     "execution_count": 9,
     "metadata": {},
     "output_type": "execute_result"
    }
   ],
   "source": [
    "# Drop 2 columns KHTN and KHXH\n",
    "df_2019.drop(columns=['Unnamed: 0', 'Ma_mon_ngoai_ngu'], inplace=True)\n",
    "df_2019.head(3)"
   ]
  },
  {
   "cell_type": "markdown",
   "metadata": {},
   "source": [
    "##### 3.2.Rename cols"
   ]
  },
  {
   "cell_type": "code",
   "execution_count": 10,
   "metadata": {},
   "outputs": [],
   "source": [
    "df_2019.rename(columns={\n",
    "    'sbd': 'Số Báo Danh',\n",
    "    'Toan': 'Toán',\n",
    "    'Van': 'Ngữ Văn',\n",
    "    'Ngoai_ngu': 'Ngoại Ngữ',\n",
    "    'Li': 'Vật Lý',\n",
    "    'Hoa': 'Hoá Học',\n",
    "    'Sinh': 'Sinh Học',\n",
    "    'Su': 'Lịch Sử',\n",
    "    'Dia': 'Địa Lý'    \n",
    "}, inplace=True)\n",
    "\n"
   ]
  },
  {
   "cell_type": "code",
   "execution_count": 11,
   "metadata": {},
   "outputs": [
    {
     "data": {
      "text/html": [
       "<div>\n",
       "<style scoped>\n",
       "    .dataframe tbody tr th:only-of-type {\n",
       "        vertical-align: middle;\n",
       "    }\n",
       "\n",
       "    .dataframe tbody tr th {\n",
       "        vertical-align: top;\n",
       "    }\n",
       "\n",
       "    .dataframe thead th {\n",
       "        text-align: right;\n",
       "    }\n",
       "</style>\n",
       "<table border=\"1\" class=\"dataframe\">\n",
       "  <thead>\n",
       "    <tr style=\"text-align: right;\">\n",
       "      <th></th>\n",
       "      <th>Địa Lý</th>\n",
       "      <th>GDCD</th>\n",
       "      <th>Hoá Học</th>\n",
       "      <th>Vật Lý</th>\n",
       "      <th>Ngoại Ngữ</th>\n",
       "      <th>Sinh Học</th>\n",
       "      <th>Lịch Sử</th>\n",
       "      <th>Toán</th>\n",
       "      <th>Ngữ Văn</th>\n",
       "      <th>Số Báo Danh</th>\n",
       "    </tr>\n",
       "  </thead>\n",
       "  <tbody>\n",
       "    <tr>\n",
       "      <th>0</th>\n",
       "      <td>7.75</td>\n",
       "      <td>8.75</td>\n",
       "      <td>NaN</td>\n",
       "      <td>NaN</td>\n",
       "      <td>7.6</td>\n",
       "      <td>NaN</td>\n",
       "      <td>8.25</td>\n",
       "      <td>8.2</td>\n",
       "      <td>8.00</td>\n",
       "      <td>24008611</td>\n",
       "    </tr>\n",
       "    <tr>\n",
       "      <th>1</th>\n",
       "      <td>NaN</td>\n",
       "      <td>NaN</td>\n",
       "      <td>4.5</td>\n",
       "      <td>8.25</td>\n",
       "      <td>8.0</td>\n",
       "      <td>6.0</td>\n",
       "      <td>NaN</td>\n",
       "      <td>8.6</td>\n",
       "      <td>6.17</td>\n",
       "      <td>51000032</td>\n",
       "    </tr>\n",
       "    <tr>\n",
       "      <th>2</th>\n",
       "      <td>4.25</td>\n",
       "      <td>5.75</td>\n",
       "      <td>NaN</td>\n",
       "      <td>NaN</td>\n",
       "      <td>NaN</td>\n",
       "      <td>NaN</td>\n",
       "      <td>4.00</td>\n",
       "      <td>5.2</td>\n",
       "      <td>4.75</td>\n",
       "      <td>51000005</td>\n",
       "    </tr>\n",
       "  </tbody>\n",
       "</table>\n",
       "</div>"
      ],
      "text/plain": [
       "   Địa Lý  GDCD  Hoá Học  Vật Lý  Ngoại Ngữ  Sinh Học  Lịch Sử  Toán  Ngữ Văn  \\\n",
       "0    7.75  8.75      NaN     NaN        7.6       NaN     8.25   8.2     8.00   \n",
       "1     NaN   NaN      4.5    8.25        8.0       6.0      NaN   8.6     6.17   \n",
       "2    4.25  5.75      NaN     NaN        NaN       NaN     4.00   5.2     4.75   \n",
       "\n",
       "   Số Báo Danh  \n",
       "0     24008611  \n",
       "1     51000032  \n",
       "2     51000005  "
      ]
     },
     "execution_count": 11,
     "metadata": {},
     "output_type": "execute_result"
    }
   ],
   "source": [
    "df_2019.head(3)"
   ]
  },
  {
   "cell_type": "markdown",
   "metadata": {},
   "source": [
    "##### 3.3.Clean sbd columns : độ dài sbd phải là 8 chữ số"
   ]
  },
  {
   "cell_type": "code",
   "execution_count": 12,
   "metadata": {},
   "outputs": [],
   "source": [
    "# Clean sbd column\n",
    "def convert(x):\n",
    "    x = str(x)\n",
    "    if len(x) == 7:\n",
    "        return '0' + x\n",
    "    return x\n"
   ]
  },
  {
   "cell_type": "code",
   "execution_count": 13,
   "metadata": {},
   "outputs": [],
   "source": [
    "df_2019['Số Báo Danh'] = df_2019['Số Báo Danh'].apply(lambda x: convert(x))"
   ]
  },
  {
   "cell_type": "markdown",
   "metadata": {},
   "source": [
    "##### 3.4.Kiểm tra dữ liệu có trùng lặp hay không"
   ]
  },
  {
   "cell_type": "code",
   "execution_count": 14,
   "metadata": {},
   "outputs": [
    {
     "name": "stdout",
     "output_type": "stream",
     "text": [
      "Empty DataFrame\n",
      "Columns: [Địa Lý, GDCD, Hoá Học, Vật Lý, Ngoại Ngữ, Sinh Học, Lịch Sử, Toán, Ngữ Văn, Số Báo Danh]\n",
      "Index: []\n"
     ]
    }
   ],
   "source": [
    "duplicated_rows = df_2019[df_2019.duplicated()]\n",
    "print(duplicated_rows)"
   ]
  },
  {
   "cell_type": "markdown",
   "metadata": {},
   "source": [
    "##### 3.5.Convert to float"
   ]
  },
  {
   "cell_type": "code",
   "execution_count": 15,
   "metadata": {},
   "outputs": [],
   "source": [
    "# Turn score from object type to float type\n",
    "for col in ['Toán', 'Ngữ Văn', 'Vật Lý', 'Hoá Học', 'Sinh Học', 'Lịch Sử', 'Địa Lý', 'GDCD', 'Ngoại Ngữ']:\n",
    "    df_2019[col] = df_2019[col].astype(float)\n"
   ]
  },
  {
   "cell_type": "code",
   "execution_count": 16,
   "metadata": {},
   "outputs": [
    {
     "name": "stdout",
     "output_type": "stream",
     "text": [
      "<class 'pandas.core.frame.DataFrame'>\n",
      "RangeIndex: 811851 entries, 0 to 811850\n",
      "Data columns (total 10 columns):\n",
      " #   Column       Non-Null Count   Dtype  \n",
      "---  ------       --------------   -----  \n",
      " 0   Địa Lý       535897 non-null  float64\n",
      " 1   GDCD         470905 non-null  float64\n",
      " 2   Hoá Học      295544 non-null  float64\n",
      " 3   Vật Lý       292166 non-null  float64\n",
      " 4   Ngoại Ngữ    728513 non-null  float64\n",
      " 5   Sinh Học     291199 non-null  float64\n",
      " 6   Lịch Sử      542729 non-null  float64\n",
      " 7   Toán         807762 non-null  float64\n",
      " 8   Ngữ Văn      799208 non-null  float64\n",
      " 9   Số Báo Danh  811851 non-null  object \n",
      "dtypes: float64(9), object(1)\n",
      "memory usage: 61.9+ MB\n"
     ]
    }
   ],
   "source": [
    "df_2019.info()"
   ]
  },
  {
   "cell_type": "markdown",
   "metadata": {},
   "source": [
    "##### 3.6.Add Year column\n"
   ]
  },
  {
   "cell_type": "code",
   "execution_count": 17,
   "metadata": {},
   "outputs": [
    {
     "data": {
      "text/html": [
       "<div>\n",
       "<style scoped>\n",
       "    .dataframe tbody tr th:only-of-type {\n",
       "        vertical-align: middle;\n",
       "    }\n",
       "\n",
       "    .dataframe tbody tr th {\n",
       "        vertical-align: top;\n",
       "    }\n",
       "\n",
       "    .dataframe thead th {\n",
       "        text-align: right;\n",
       "    }\n",
       "</style>\n",
       "<table border=\"1\" class=\"dataframe\">\n",
       "  <thead>\n",
       "    <tr style=\"text-align: right;\">\n",
       "      <th></th>\n",
       "      <th>Địa Lý</th>\n",
       "      <th>GDCD</th>\n",
       "      <th>Hoá Học</th>\n",
       "      <th>Vật Lý</th>\n",
       "      <th>Ngoại Ngữ</th>\n",
       "      <th>Sinh Học</th>\n",
       "      <th>Lịch Sử</th>\n",
       "      <th>Toán</th>\n",
       "      <th>Ngữ Văn</th>\n",
       "      <th>Số Báo Danh</th>\n",
       "      <th>Year</th>\n",
       "    </tr>\n",
       "  </thead>\n",
       "  <tbody>\n",
       "    <tr>\n",
       "      <th>366521</th>\n",
       "      <td>6.75</td>\n",
       "      <td>5.75</td>\n",
       "      <td>NaN</td>\n",
       "      <td>NaN</td>\n",
       "      <td>2.8</td>\n",
       "      <td>NaN</td>\n",
       "      <td>3.0</td>\n",
       "      <td>1.8</td>\n",
       "      <td>2.75</td>\n",
       "      <td>19007409</td>\n",
       "      <td>2019</td>\n",
       "    </tr>\n",
       "  </tbody>\n",
       "</table>\n",
       "</div>"
      ],
      "text/plain": [
       "        Địa Lý  GDCD  Hoá Học  Vật Lý  Ngoại Ngữ  Sinh Học  Lịch Sử  Toán  \\\n",
       "366521    6.75  5.75      NaN     NaN        2.8       NaN      3.0   1.8   \n",
       "\n",
       "        Ngữ Văn Số Báo Danh  Year  \n",
       "366521     2.75    19007409  2019  "
      ]
     },
     "execution_count": 17,
     "metadata": {},
     "output_type": "execute_result"
    }
   ],
   "source": [
    "df_2019['Year'] = 2019\n",
    "df_2019.sample()"
   ]
  },
  {
   "cell_type": "markdown",
   "metadata": {},
   "source": [
    "##### 3.7.Import địa phận tỉnh"
   ]
  },
  {
   "cell_type": "code",
   "execution_count": 18,
   "metadata": {},
   "outputs": [
    {
     "data": {
      "text/html": [
       "<div>\n",
       "<style scoped>\n",
       "    .dataframe tbody tr th:only-of-type {\n",
       "        vertical-align: middle;\n",
       "    }\n",
       "\n",
       "    .dataframe tbody tr th {\n",
       "        vertical-align: top;\n",
       "    }\n",
       "\n",
       "    .dataframe thead th {\n",
       "        text-align: right;\n",
       "    }\n",
       "</style>\n",
       "<table border=\"1\" class=\"dataframe\">\n",
       "  <thead>\n",
       "    <tr style=\"text-align: right;\">\n",
       "      <th></th>\n",
       "      <th>gid</th>\n",
       "      <th>code</th>\n",
       "      <th>ten_tinh</th>\n",
       "      <th>geometry</th>\n",
       "    </tr>\n",
       "  </thead>\n",
       "  <tbody>\n",
       "    <tr>\n",
       "      <th>0</th>\n",
       "      <td>1</td>\n",
       "      <td>AD01</td>\n",
       "      <td>An Giang</td>\n",
       "      <td>MULTIPOLYGON (((105.11524 10.95566, 105.11463 ...</td>\n",
       "    </tr>\n",
       "    <tr>\n",
       "      <th>1</th>\n",
       "      <td>2</td>\n",
       "      <td>AD01</td>\n",
       "      <td>Bà Rịa -Vũng Tàu</td>\n",
       "      <td>MULTIPOLYGON (((106.08110 8.57754, 106.08069 8...</td>\n",
       "    </tr>\n",
       "    <tr>\n",
       "      <th>2</th>\n",
       "      <td>3</td>\n",
       "      <td>AD01</td>\n",
       "      <td>Bắc Giang</td>\n",
       "      <td>MULTIPOLYGON (((106.16542 21.62022, 106.16925 ...</td>\n",
       "    </tr>\n",
       "    <tr>\n",
       "      <th>3</th>\n",
       "      <td>4</td>\n",
       "      <td>AD01</td>\n",
       "      <td>Bắc Kạn</td>\n",
       "      <td>MULTIPOLYGON (((105.74420 22.73519, 105.74624 ...</td>\n",
       "    </tr>\n",
       "    <tr>\n",
       "      <th>4</th>\n",
       "      <td>5</td>\n",
       "      <td>AD01</td>\n",
       "      <td>Bạc Liêu</td>\n",
       "      <td>MULTIPOLYGON (((105.32591 9.60004, 105.32755 9...</td>\n",
       "    </tr>\n",
       "  </tbody>\n",
       "</table>\n",
       "</div>"
      ],
      "text/plain": [
       "   gid  code          ten_tinh  \\\n",
       "0    1  AD01          An Giang   \n",
       "1    2  AD01  Bà Rịa -Vũng Tàu   \n",
       "2    3  AD01         Bắc Giang   \n",
       "3    4  AD01           Bắc Kạn   \n",
       "4    5  AD01          Bạc Liêu   \n",
       "\n",
       "                                            geometry  \n",
       "0  MULTIPOLYGON (((105.11524 10.95566, 105.11463 ...  \n",
       "1  MULTIPOLYGON (((106.08110 8.57754, 106.08069 8...  \n",
       "2  MULTIPOLYGON (((106.16542 21.62022, 106.16925 ...  \n",
       "3  MULTIPOLYGON (((105.74420 22.73519, 105.74624 ...  \n",
       "4  MULTIPOLYGON (((105.32591 9.60004, 105.32755 9...  "
      ]
     },
     "execution_count": 18,
     "metadata": {},
     "output_type": "execute_result"
    }
   ],
   "source": [
    "import geopandas as gpd\n",
    "map_df = gpd.read_file('./diaphantinh.geojson')\n",
    "map_df.head()"
   ]
  },
  {
   "cell_type": "markdown",
   "metadata": {},
   "source": [
    "###### 3.7.1.Update name province"
   ]
  },
  {
   "cell_type": "code",
   "execution_count": 19,
   "metadata": {},
   "outputs": [],
   "source": [
    "# Fix some typo errors\n",
    "map_df.loc[44, 'ten_tinh'] = 'Quảng Bình'\n",
    "map_df.loc[31, 'ten_tinh'] = 'Kiên Giang'\n",
    "map_df.loc[12, 'ten_tinh'] = 'Cần Thơ'"
   ]
  },
  {
   "cell_type": "markdown",
   "metadata": {},
   "source": [
    "##### 3.8.Create a dictionary to map in VietNam"
   ]
  },
  {
   "cell_type": "code",
   "execution_count": 20,
   "metadata": {},
   "outputs": [],
   "source": [
    "\n",
    "code_provinces = ['51', '52', '18', '11', '60', '19', '56', '37', '44', '43', '47', '61', '55',\n",
    "                  '06', '04', '40', '63', '62', '48', '50', '38', '05', '24', '01', '30', '21',\n",
    "                  '03', '64', '23', '22', '41', '54', '36', '07', '42', '10', '08', '49', '25',\n",
    "                  '29', '27', '45', '15', '39', '31', '34', '35', '17', '32', '59', '14', '46',\n",
    "                  '26', '12', '28', '33', '53', '02', '58', '09', '57', '16', '13']\n",
    "                  \n",
    "mapping = {code_provinces[i]: map_df['ten_tinh'].unique().tolist()[i] for i in range(len(code_provinces))}"
   ]
  },
  {
   "cell_type": "markdown",
   "metadata": {},
   "source": [
    "##### 3.9.Create columns of code and province"
   ]
  },
  {
   "cell_type": "code",
   "execution_count": 21,
   "metadata": {},
   "outputs": [],
   "source": [
    "\n",
    "df_2019['code'] = df_2019['Số Báo Danh'].str[:2]\n",
    "df_2019['province'] = df_2019['code'].apply(lambda x: mapping[x])"
   ]
  },
  {
   "cell_type": "code",
   "execution_count": 22,
   "metadata": {},
   "outputs": [
    {
     "data": {
      "text/html": [
       "<div>\n",
       "<style scoped>\n",
       "    .dataframe tbody tr th:only-of-type {\n",
       "        vertical-align: middle;\n",
       "    }\n",
       "\n",
       "    .dataframe tbody tr th {\n",
       "        vertical-align: top;\n",
       "    }\n",
       "\n",
       "    .dataframe thead th {\n",
       "        text-align: right;\n",
       "    }\n",
       "</style>\n",
       "<table border=\"1\" class=\"dataframe\">\n",
       "  <thead>\n",
       "    <tr style=\"text-align: right;\">\n",
       "      <th></th>\n",
       "      <th>Địa Lý</th>\n",
       "      <th>GDCD</th>\n",
       "      <th>Hoá Học</th>\n",
       "      <th>Vật Lý</th>\n",
       "      <th>Ngoại Ngữ</th>\n",
       "      <th>Sinh Học</th>\n",
       "      <th>Lịch Sử</th>\n",
       "      <th>Toán</th>\n",
       "      <th>Ngữ Văn</th>\n",
       "      <th>Số Báo Danh</th>\n",
       "      <th>Year</th>\n",
       "      <th>code</th>\n",
       "      <th>province</th>\n",
       "    </tr>\n",
       "  </thead>\n",
       "  <tbody>\n",
       "    <tr>\n",
       "      <th>0</th>\n",
       "      <td>7.75</td>\n",
       "      <td>8.75</td>\n",
       "      <td>NaN</td>\n",
       "      <td>NaN</td>\n",
       "      <td>7.6</td>\n",
       "      <td>NaN</td>\n",
       "      <td>8.25</td>\n",
       "      <td>8.2</td>\n",
       "      <td>8.00</td>\n",
       "      <td>24008611</td>\n",
       "      <td>2019</td>\n",
       "      <td>24</td>\n",
       "      <td>Hà Nam</td>\n",
       "    </tr>\n",
       "    <tr>\n",
       "      <th>1</th>\n",
       "      <td>NaN</td>\n",
       "      <td>NaN</td>\n",
       "      <td>4.5</td>\n",
       "      <td>8.25</td>\n",
       "      <td>8.0</td>\n",
       "      <td>6.0</td>\n",
       "      <td>NaN</td>\n",
       "      <td>8.6</td>\n",
       "      <td>6.17</td>\n",
       "      <td>51000032</td>\n",
       "      <td>2019</td>\n",
       "      <td>51</td>\n",
       "      <td>An Giang</td>\n",
       "    </tr>\n",
       "    <tr>\n",
       "      <th>2</th>\n",
       "      <td>4.25</td>\n",
       "      <td>5.75</td>\n",
       "      <td>NaN</td>\n",
       "      <td>NaN</td>\n",
       "      <td>NaN</td>\n",
       "      <td>NaN</td>\n",
       "      <td>4.00</td>\n",
       "      <td>5.2</td>\n",
       "      <td>4.75</td>\n",
       "      <td>51000005</td>\n",
       "      <td>2019</td>\n",
       "      <td>51</td>\n",
       "      <td>An Giang</td>\n",
       "    </tr>\n",
       "  </tbody>\n",
       "</table>\n",
       "</div>"
      ],
      "text/plain": [
       "   Địa Lý  GDCD  Hoá Học  Vật Lý  Ngoại Ngữ  Sinh Học  Lịch Sử  Toán  Ngữ Văn  \\\n",
       "0    7.75  8.75      NaN     NaN        7.6       NaN     8.25   8.2     8.00   \n",
       "1     NaN   NaN      4.5    8.25        8.0       6.0      NaN   8.6     6.17   \n",
       "2    4.25  5.75      NaN     NaN        NaN       NaN     4.00   5.2     4.75   \n",
       "\n",
       "  Số Báo Danh  Year code  province  \n",
       "0    24008611  2019   24    Hà Nam  \n",
       "1    51000032  2019   51  An Giang  \n",
       "2    51000005  2019   51  An Giang  "
      ]
     },
     "execution_count": 22,
     "metadata": {},
     "output_type": "execute_result"
    }
   ],
   "source": [
    "df_2019.head(3)"
   ]
  },
  {
   "cell_type": "markdown",
   "metadata": {},
   "source": [
    "### 4.Save new data"
   ]
  },
  {
   "cell_type": "code",
   "execution_count": 23,
   "metadata": {},
   "outputs": [],
   "source": [
    "df_2019.to_csv('./clean_data_2019.csv', index=False)"
   ]
  }
 ],
 "metadata": {
  "kernelspec": {
   "display_name": "base",
   "language": "python",
   "name": "python3"
  },
  "language_info": {
   "codemirror_mode": {
    "name": "ipython",
    "version": 3
   },
   "file_extension": ".py",
   "mimetype": "text/x-python",
   "name": "python",
   "nbconvert_exporter": "python",
   "pygments_lexer": "ipython3",
   "version": "3.11.5"
  }
 },
 "nbformat": 4,
 "nbformat_minor": 2
}
